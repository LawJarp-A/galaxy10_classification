{
  "cells": [
    {
      "cell_type": "code",
      "execution_count": 1,
      "metadata": {
        "colab": {
          "base_uri": "https://localhost:8080/"
        },
        "id": "ZArMD8Parlq1",
        "outputId": "5ca780d3-dd93-4240-fb7f-756077f2c1b3"
      },
      "outputs": [
        {
          "name": "stdout",
          "output_type": "stream",
          "text": [
            "Collecting astroNN\n",
            "  Downloading astroNN-1.0.1.tar.gz (9.3 MB)\n",
            "\u001b[K     |████████████████████████████████| 9.3 MB 6.8 MB/s \n",
            "\u001b[?25hRequirement already satisfied: numpy in /usr/local/lib/python3.7/dist-packages (from astroNN) (1.21.6)\n",
            "Requirement already satisfied: astropy in /usr/local/lib/python3.7/dist-packages (from astroNN) (4.3.1)\n",
            "Requirement already satisfied: h5py in /usr/local/lib/python3.7/dist-packages (from astroNN) (3.1.0)\n",
            "Requirement already satisfied: matplotlib in /usr/local/lib/python3.7/dist-packages (from astroNN) (3.2.2)\n",
            "Collecting astroquery\n",
            "  Downloading astroquery-0.4.6-py3-none-any.whl (4.5 MB)\n",
            "\u001b[K     |████████████████████████████████| 4.5 MB 31.8 MB/s \n",
            "\u001b[?25hRequirement already satisfied: pandas in /usr/local/lib/python3.7/dist-packages (from astroNN) (1.3.5)\n",
            "Requirement already satisfied: seaborn in /usr/local/lib/python3.7/dist-packages (from astroNN) (0.11.2)\n",
            "Requirement already satisfied: scikit-learn in /usr/local/lib/python3.7/dist-packages (from astroNN) (1.0.2)\n",
            "Requirement already satisfied: tqdm in /usr/local/lib/python3.7/dist-packages (from astroNN) (4.64.0)\n",
            "Requirement already satisfied: packaging in /usr/local/lib/python3.7/dist-packages (from astroNN) (21.3)\n",
            "Requirement already satisfied: pyerfa>=1.7.3 in /usr/local/lib/python3.7/dist-packages (from astropy->astroNN) (2.0.0.1)\n",
            "Requirement already satisfied: importlib-metadata in /usr/local/lib/python3.7/dist-packages (from astropy->astroNN) (4.11.3)\n",
            "Requirement already satisfied: html5lib>=0.999 in /usr/local/lib/python3.7/dist-packages (from astroquery->astroNN) (1.0.1)\n",
            "Requirement already satisfied: beautifulsoup4>=4.3.2 in /usr/local/lib/python3.7/dist-packages (from astroquery->astroNN) (4.6.3)\n",
            "Collecting keyring>=4.0\n",
            "  Downloading keyring-23.5.0-py3-none-any.whl (33 kB)\n",
            "Collecting pyvo>=1.1\n",
            "  Downloading pyvo-1.2.1-py3-none-any.whl (832 kB)\n",
            "\u001b[K     |████████████████████████████████| 832 kB 48.3 MB/s \n",
            "\u001b[?25hRequirement already satisfied: requests>=2.4.3 in /usr/local/lib/python3.7/dist-packages (from astroquery->astroNN) (2.23.0)\n",
            "Requirement already satisfied: six>=1.9 in /usr/local/lib/python3.7/dist-packages (from html5lib>=0.999->astroquery->astroNN) (1.15.0)\n",
            "Requirement already satisfied: webencodings in /usr/local/lib/python3.7/dist-packages (from html5lib>=0.999->astroquery->astroNN) (0.5.1)\n",
            "Collecting SecretStorage>=3.2\n",
            "  Downloading SecretStorage-3.3.2-py3-none-any.whl (15 kB)\n",
            "Collecting jeepney>=0.4.2\n",
            "  Downloading jeepney-0.8.0-py3-none-any.whl (48 kB)\n",
            "\u001b[K     |████████████████████████████████| 48 kB 5.8 MB/s \n",
            "\u001b[?25hRequirement already satisfied: typing-extensions>=3.6.4 in /usr/local/lib/python3.7/dist-packages (from importlib-metadata->astropy->astroNN) (4.2.0)\n",
            "Requirement already satisfied: zipp>=0.5 in /usr/local/lib/python3.7/dist-packages (from importlib-metadata->astropy->astroNN) (3.8.0)\n",
            "Requirement already satisfied: idna<3,>=2.5 in /usr/local/lib/python3.7/dist-packages (from requests>=2.4.3->astroquery->astroNN) (2.10)\n",
            "Requirement already satisfied: urllib3!=1.25.0,!=1.25.1,<1.26,>=1.21.1 in /usr/local/lib/python3.7/dist-packages (from requests>=2.4.3->astroquery->astroNN) (1.24.3)\n",
            "Requirement already satisfied: certifi>=2017.4.17 in /usr/local/lib/python3.7/dist-packages (from requests>=2.4.3->astroquery->astroNN) (2021.10.8)\n",
            "Requirement already satisfied: chardet<4,>=3.0.2 in /usr/local/lib/python3.7/dist-packages (from requests>=2.4.3->astroquery->astroNN) (3.0.4)\n",
            "Collecting cryptography>=2.0\n",
            "  Downloading cryptography-37.0.2-cp36-abi3-manylinux_2_24_x86_64.whl (4.0 MB)\n",
            "\u001b[K     |████████████████████████████████| 4.0 MB 46.6 MB/s \n",
            "\u001b[?25hRequirement already satisfied: cffi>=1.12 in /usr/local/lib/python3.7/dist-packages (from cryptography>=2.0->SecretStorage>=3.2->keyring>=4.0->astroquery->astroNN) (1.15.0)\n",
            "Requirement already satisfied: pycparser in /usr/local/lib/python3.7/dist-packages (from cffi>=1.12->cryptography>=2.0->SecretStorage>=3.2->keyring>=4.0->astroquery->astroNN) (2.21)\n",
            "Requirement already satisfied: cached-property in /usr/local/lib/python3.7/dist-packages (from h5py->astroNN) (1.5.2)\n",
            "Requirement already satisfied: cycler>=0.10 in /usr/local/lib/python3.7/dist-packages (from matplotlib->astroNN) (0.11.0)\n",
            "Requirement already satisfied: python-dateutil>=2.1 in /usr/local/lib/python3.7/dist-packages (from matplotlib->astroNN) (2.8.2)\n",
            "Requirement already satisfied: pyparsing!=2.0.4,!=2.1.2,!=2.1.6,>=2.0.1 in /usr/local/lib/python3.7/dist-packages (from matplotlib->astroNN) (3.0.8)\n",
            "Requirement already satisfied: kiwisolver>=1.0.1 in /usr/local/lib/python3.7/dist-packages (from matplotlib->astroNN) (1.4.2)\n",
            "Requirement already satisfied: pytz>=2017.3 in /usr/local/lib/python3.7/dist-packages (from pandas->astroNN) (2022.1)\n",
            "Requirement already satisfied: scipy>=1.1.0 in /usr/local/lib/python3.7/dist-packages (from scikit-learn->astroNN) (1.4.1)\n",
            "Requirement already satisfied: threadpoolctl>=2.0.0 in /usr/local/lib/python3.7/dist-packages (from scikit-learn->astroNN) (3.1.0)\n",
            "Requirement already satisfied: joblib>=0.11 in /usr/local/lib/python3.7/dist-packages (from scikit-learn->astroNN) (1.1.0)\n",
            "Building wheels for collected packages: astroNN\n",
            "  Building wheel for astroNN (setup.py) ... \u001b[?25l\u001b[?25hdone\n",
            "  Created wheel for astroNN: filename=astroNN-1.0.1-py3-none-any.whl size=9284595 sha256=1ec977ec1dba338e22e1de3a7a4a7bd8084fd22990e19946399d95d14ea96861\n",
            "  Stored in directory: /root/.cache/pip/wheels/26/a4/7e/4cbf2a7f9cd51929da9d09345e8cd37c647b54825a1314dd2d\n",
            "Successfully built astroNN\n",
            "Installing collected packages: jeepney, cryptography, SecretStorage, pyvo, keyring, astroquery, astroNN\n",
            "Successfully installed SecretStorage-3.3.2 astroNN-1.0.1 astroquery-0.4.6 cryptography-37.0.2 jeepney-0.8.0 keyring-23.5.0 pyvo-1.2.1\n",
            "WARNING! APOGEE environment variable SDSS_LOCAL_SAS_MIRROR not set\n",
            "WARNING! Gaia environment variable GAIA_TOOLS_DATA not set\n"
          ]
        }
      ],
      "source": [
        "! pip install astroNN\n",
        "import tensorflow as tf\n",
        "import matplotlib.pyplot as plt\n",
        "import pandas as pd\n",
        "import seaborn as sns\n",
        "import numpy as np\n",
        "from tensorflow import keras\n",
        "\n",
        "from keras.models import Sequential\n",
        "from keras.layers import Conv2D, AveragePooling2D, Flatten, Dense, Dropout\n",
        "from keras.callbacks import ReduceLROnPlateau\n",
        "from tensorflow.keras.optimizers import Adam\n",
        "\n",
        "import sklearn\n",
        "from sklearn.model_selection import train_test_split\n",
        "from sklearn.metrics import classification_report,confusion_matrix\n",
        "from tensorflow.keras import utils\n",
        "\n",
        "from astroNN.datasets import galaxy10\n",
        "from astroNN.datasets.galaxy10 import galaxy10cls_lookup"
      ]
    },
    {
      "cell_type": "code",
      "execution_count": 11,
      "metadata": {
        "id": "sOb8PDA1ZiLo"
      },
      "outputs": [],
      "source": [
        "from tensorflow.keras.optimizers import SGD,Adam"
      ]
    },
    {
      "cell_type": "code",
      "execution_count": 2,
      "metadata": {
        "colab": {
          "base_uri": "https://localhost:8080/"
        },
        "id": "n3Xrjp2Drrny",
        "outputId": "15ca1b6a-581f-4b8f-a029-56202e75fc94"
      },
      "outputs": [
        {
          "name": "stderr",
          "output_type": "stream",
          "text": [
            "Galaxy10.h5: 100%|█████████▉| 210M/210M [00:06<00:00, 52.7MB/s]"
          ]
        },
        {
          "name": "stdout",
          "output_type": "stream",
          "text": [
            "Downloaded Galaxy10 successfully to /root/.astroNN/datasets/Galaxy10.h5\n"
          ]
        },
        {
          "name": "stderr",
          "output_type": "stream",
          "text": [
            "\rGalaxy10.h5: 210MB [00:08, 25.8MB/s]                           \n"
          ]
        }
      ],
      "source": [
        "images, labels = galaxy10.load_data()\n",
        "\n",
        "x_train, x_test, y_train, y_test = train_test_split(images, labels, test_size=0.2)\n",
        "\n",
        "features = ['Disk, Face-on, No Spiral', 'Smooth, Completely round', 'Smooth, in-between round', 'Smooth, Cigar shaped', 'Disk, Edge-on, Rounded Bulge', 'Disk, Edge-on, Boxy Bulge', \n",
        "            'Disk, Edge-on, No Bulge','Disk, Face-on, Tight Spiral', 'Disk, Face-on, Medium Spiral', 'Disk, Face-on, Loose Spiral']\n",
        "\n",
        "x_train = x_train / 255.0\n",
        "x_test = x_test / 255.0"
      ]
    },
    {
      "cell_type": "code",
      "execution_count": 3,
      "metadata": {
        "colab": {
          "base_uri": "https://localhost:8080/"
        },
        "id": "KhpPmap1wt8v",
        "outputId": "36d262b0-4cc7-43ff-8bef-fde9a26067aa"
      },
      "outputs": [
        {
          "data": {
            "text/plain": [
              "((17428, 69, 69, 3), (4357, 69, 69, 3))"
            ]
          },
          "execution_count": 3,
          "metadata": {},
          "output_type": "execute_result"
        }
      ],
      "source": [
        "x_train.shape, x_test.shape"
      ]
    },
    {
      "cell_type": "code",
      "execution_count": 4,
      "metadata": {
        "colab": {
          "base_uri": "https://localhost:8080/"
        },
        "id": "NNwvXVzVw0dI",
        "outputId": "32dfc9e0-fb1d-4fba-e6ad-cd98b725a68e"
      },
      "outputs": [
        {
          "name": "stdout",
          "output_type": "stream",
          "text": [
            "0    3461\n",
            "1    6997\n",
            "2    6292\n",
            "3     349\n",
            "4    1534\n",
            "5      17\n",
            "6     589\n",
            "7    1121\n",
            "8     906\n",
            "9     519\n",
            "dtype: int64\n"
          ]
        }
      ],
      "source": [
        "df = pd.DataFrame(data=labels)\n",
        "\n",
        "counts = df.value_counts().sort_index()\n",
        "print(counts)"
      ]
    },
    {
      "cell_type": "code",
      "execution_count": 9,
      "metadata": {
        "colab": {
          "base_uri": "https://localhost:8080/",
          "height": 406
        },
        "id": "gi-OpdMeYRRl",
        "outputId": "d796809a-f39b-4a21-8271-8097a92137d9"
      },
      "outputs": [
        {
          "data": {
            "image/png": "[encoded data removed]",
            "text/plain": [
              "<Figure size 432x288 with 1 Axes>"
            ]
          },
          "metadata": {
            "needs_background": "light"
          },
          "output_type": "display_data"
        }
      ],
      "source": [
        "def class_distribution(x, y, labels):\n",
        "    fig, ax = plt.subplots()\n",
        "    ax.bar(x, y)\n",
        "    ax.set_xticklabels(labels, rotation=90)\n",
        "    plt.show()\n",
        "    \n",
        "class_distribution(features, counts, features)"
      ]
    },
    {
      "cell_type": "markdown",
      "metadata": {
        "id": "3Xo0lQAo1Skr"
      },
      "source": [
        "#Base-Line Model for LENet"
      ]
    },
    {
      "cell_type": "code",
      "execution_count": 5,
      "metadata": {
        "colab": {
          "base_uri": "https://localhost:8080/"
        },
        "id": "Sf1FRbtw-gCB",
        "outputId": "e4bf93f8-7522-46e4-a467-5db5f0880877"
      },
      "outputs": [
        {
          "name": "stderr",
          "output_type": "stream",
          "text": [
            "/usr/local/lib/python3.7/dist-packages/keras/optimizer_v2/adam.py:105: UserWarning: The `lr` argument is deprecated, use `learning_rate` instead.\n",
            "  super(Adam, self).__init__(name, **kwargs)\n"
          ]
        },
        {
          "name": "stdout",
          "output_type": "stream",
          "text": [
            "Epoch 1/50\n",
            "545/545 [==============================] - 10s 18ms/step - loss: 1.5243 - accuracy: 0.4053 - lr: 0.0010\n",
            "Epoch 2/50\n",
            "545/545 [==============================] - 12s 22ms/step - loss: 1.1333 - accuracy: 0.5866 - lr: 0.0010\n",
            "Epoch 3/50\n",
            "545/545 [==============================] - 11s 21ms/step - loss: 1.0186 - accuracy: 0.6356 - lr: 0.0010\n",
            "Epoch 4/50\n",
            "545/545 [==============================] - 7s 13ms/step - loss: 0.9618 - accuracy: 0.6580 - lr: 0.0010\n",
            "Epoch 5/50\n",
            "545/545 [==============================] - 7s 13ms/step - loss: 0.9153 - accuracy: 0.6772 - lr: 0.0010\n",
            "Epoch 6/50\n",
            "545/545 [==============================] - 7s 13ms/step - loss: 0.8831 - accuracy: 0.6872 - lr: 0.0010\n",
            "Epoch 7/50\n",
            "545/545 [==============================] - 7s 13ms/step - loss: 0.8483 - accuracy: 0.7039 - lr: 1.0000e-06\n",
            "Epoch 8/50\n",
            "545/545 [==============================] - 7s 13ms/step - loss: 0.8187 - accuracy: 0.7153 - lr: 1.0000e-06\n",
            "Epoch 9/50\n",
            "545/545 [==============================] - 7s 13ms/step - loss: 0.8085 - accuracy: 0.7187 - lr: 1.0000e-06\n",
            "Epoch 10/50\n",
            "545/545 [==============================] - 7s 13ms/step - loss: 0.8051 - accuracy: 0.7194 - lr: 1.0000e-09\n",
            "Epoch 11/50\n",
            "545/545 [==============================] - 7s 13ms/step - loss: 0.8051 - accuracy: 0.7194 - lr: 1.0000e-12\n",
            "Epoch 12/50\n",
            "545/545 [==============================] - 7s 13ms/step - loss: 0.8051 - accuracy: 0.7194 - lr: 1.0000e-15\n",
            "Epoch 13/50\n",
            "545/545 [==============================] - 7s 13ms/step - loss: 0.8051 - accuracy: 0.7194 - lr: 1.0000e-18\n",
            "Epoch 14/50\n",
            "545/545 [==============================] - 7s 13ms/step - loss: 0.8051 - accuracy: 0.7194 - lr: 1.0000e-21\n",
            "Epoch 15/50\n",
            "545/545 [==============================] - 7s 13ms/step - loss: 0.8051 - accuracy: 0.7194 - lr: 1.0000e-24\n",
            "Epoch 16/50\n",
            "545/545 [==============================] - 7s 13ms/step - loss: 0.8051 - accuracy: 0.7194 - lr: 1.0000e-27\n",
            "Epoch 17/50\n",
            "545/545 [==============================] - 8s 14ms/step - loss: 0.8051 - accuracy: 0.7194 - lr: 1.0000e-30\n",
            "Epoch 18/50\n",
            "545/545 [==============================] - 9s 16ms/step - loss: 0.8051 - accuracy: 0.7194 - lr: 1.0000e-33\n",
            "Epoch 19/50\n",
            "545/545 [==============================] - 7s 14ms/step - loss: 0.8051 - accuracy: 0.7194 - lr: 1.0000e-36\n",
            "Epoch 20/50\n",
            "545/545 [==============================] - 7s 14ms/step - loss: 0.8051 - accuracy: 0.7194 - lr: 1.0000e-39\n",
            "Epoch 21/50\n",
            "545/545 [==============================] - 7s 13ms/step - loss: 0.8051 - accuracy: 0.7194 - lr: 1.0005e-42\n",
            "Epoch 22/50\n",
            "545/545 [==============================] - 7s 14ms/step - loss: 0.8051 - accuracy: 0.7194 - lr: 1.4013e-45\n",
            "Epoch 23/50\n",
            "545/545 [==============================] - 7s 13ms/step - loss: 0.8051 - accuracy: 0.7194 - lr: 0.0000e+00\n",
            "Epoch 24/50\n",
            "545/545 [==============================] - 7s 13ms/step - loss: 0.8051 - accuracy: 0.7194 - lr: 0.0000e+00\n",
            "Epoch 25/50\n",
            "545/545 [==============================] - 7s 13ms/step - loss: 0.8051 - accuracy: 0.7194 - lr: 0.0000e+00\n",
            "Epoch 26/50\n",
            "545/545 [==============================] - 7s 13ms/step - loss: 0.8051 - accuracy: 0.7194 - lr: 0.0000e+00\n",
            "Epoch 27/50\n",
            "545/545 [==============================] - 7s 13ms/step - loss: 0.8051 - accuracy: 0.7194 - lr: 0.0000e+00\n",
            "Epoch 28/50\n",
            "545/545 [==============================] - 7s 13ms/step - loss: 0.8051 - accuracy: 0.7194 - lr: 0.0000e+00\n",
            "Epoch 29/50\n",
            "545/545 [==============================] - 7s 14ms/step - loss: 0.8051 - accuracy: 0.7194 - lr: 0.0000e+00\n",
            "Epoch 30/50\n",
            "545/545 [==============================] - 7s 14ms/step - loss: 0.8051 - accuracy: 0.7194 - lr: 0.0000e+00\n",
            "Epoch 31/50\n",
            "545/545 [==============================] - 7s 13ms/step - loss: 0.8051 - accuracy: 0.7194 - lr: 0.0000e+00\n",
            "Epoch 32/50\n",
            "545/545 [==============================] - 9s 17ms/step - loss: 0.8051 - accuracy: 0.7194 - lr: 0.0000e+00\n",
            "Epoch 33/50\n",
            "545/545 [==============================] - 9s 17ms/step - loss: 0.8051 - accuracy: 0.7194 - lr: 0.0000e+00\n",
            "Epoch 34/50\n",
            "545/545 [==============================] - 7s 14ms/step - loss: 0.8051 - accuracy: 0.7194 - lr: 0.0000e+00\n",
            "Epoch 35/50\n",
            "545/545 [==============================] - 7s 13ms/step - loss: 0.8051 - accuracy: 0.7194 - lr: 0.0000e+00\n",
            "Epoch 36/50\n",
            "545/545 [==============================] - 7s 14ms/step - loss: 0.8051 - accuracy: 0.7194 - lr: 0.0000e+00\n",
            "Epoch 37/50\n",
            "545/545 [==============================] - 7s 14ms/step - loss: 0.8051 - accuracy: 0.7194 - lr: 0.0000e+00\n",
            "Epoch 38/50\n",
            "545/545 [==============================] - 7s 13ms/step - loss: 0.8051 - accuracy: 0.7194 - lr: 0.0000e+00\n",
            "Epoch 39/50\n",
            "545/545 [==============================] - 7s 13ms/step - loss: 0.8051 - accuracy: 0.7194 - lr: 0.0000e+00\n",
            "Epoch 40/50\n",
            "545/545 [==============================] - 7s 13ms/step - loss: 0.8051 - accuracy: 0.7194 - lr: 0.0000e+00\n",
            "Epoch 41/50\n",
            "545/545 [==============================] - 7s 13ms/step - loss: 0.8051 - accuracy: 0.7194 - lr: 0.0000e+00\n",
            "Epoch 42/50\n",
            "545/545 [==============================] - 7s 13ms/step - loss: 0.8051 - accuracy: 0.7194 - lr: 0.0000e+00\n",
            "Epoch 43/50\n",
            "545/545 [==============================] - 7s 13ms/step - loss: 0.8051 - accuracy: 0.7194 - lr: 0.0000e+00\n",
            "Epoch 44/50\n",
            "545/545 [==============================] - 7s 13ms/step - loss: 0.8051 - accuracy: 0.7194 - lr: 0.0000e+00\n",
            "Epoch 45/50\n",
            "545/545 [==============================] - 7s 13ms/step - loss: 0.8051 - accuracy: 0.7194 - lr: 0.0000e+00\n",
            "Epoch 46/50\n",
            "545/545 [==============================] - 7s 13ms/step - loss: 0.8051 - accuracy: 0.7194 - lr: 0.0000e+00\n",
            "Epoch 47/50\n",
            "545/545 [==============================] - 7s 13ms/step - loss: 0.8051 - accuracy: 0.7194 - lr: 0.0000e+00\n",
            "Epoch 48/50\n",
            "545/545 [==============================] - 7s 13ms/step - loss: 0.8051 - accuracy: 0.7194 - lr: 0.0000e+00\n",
            "Epoch 49/50\n",
            "545/545 [==============================] - 7s 13ms/step - loss: 0.8051 - accuracy: 0.7194 - lr: 0.0000e+00\n",
            "Epoch 50/50\n",
            "545/545 [==============================] - 7s 13ms/step - loss: 0.8051 - accuracy: 0.7194 - lr: 0.0000e+00\n"
          ]
        }
      ],
      "source": [
        "model = Sequential()\n",
        "\n",
        "# Baseline model to compare to LeNet-5\n",
        "model.add(Flatten(input_shape=(69, 69, 3)))\n",
        "model.add(Dense(128, activation='relu'))\n",
        "model.add(Dense(10, activation='softmax'))\n",
        "\n",
        "model_optimizer = Adam(lr=0.001)\n",
        "\n",
        "model.compile(optimizer=model_optimizer, loss='sparse_categorical_crossentropy', metrics=[\"accuracy\"])\n",
        "reduceLR = ReduceLROnPlateau(monitor='accuracy', factor=.001, patience=1, min_delta=0.01, mode=\"auto\")\n",
        "lol = model.fit(x_train, y_train, epochs=50, callbacks=[reduceLR])"
      ]
    },
    {
      "cell_type": "code",
      "execution_count": 16,
      "metadata": {
        "colab": {
          "base_uri": "https://localhost:8080/"
        },
        "id": "N2xMk6X0_J0f",
        "outputId": "19f56006-cfef-4221-f80d-2ae66ecefad4"
      },
      "outputs": [
        {
          "name": "stderr",
          "output_type": "stream",
          "text": [
            "/usr/local/lib/python3.7/dist-packages/keras/optimizer_v2/adam.py:105: UserWarning: The `lr` argument is deprecated, use `learning_rate` instead.\n",
            "  super(Adam, self).__init__(name, **kwargs)\n",
            "/usr/local/lib/python3.7/dist-packages/keras/optimizer_v2/gradient_descent.py:102: UserWarning: The `lr` argument is deprecated, use `learning_rate` instead.\n",
            "  super(SGD, self).__init__(name, **kwargs)\n"
          ]
        },
        {
          "name": "stdout",
          "output_type": "stream",
          "text": [
            "Epoch 1/10\n",
            "175/175 [==============================] - 73s 415ms/step - loss: 1.4642 - accuracy: 0.4176 - val_loss: 1.2041 - val_accuracy: 0.5878 - lr: 0.0010\n",
            "Epoch 2/10\n",
            "175/175 [==============================] - 71s 408ms/step - loss: 0.9904 - accuracy: 0.6477 - val_loss: 0.9413 - val_accuracy: 0.6615 - lr: 0.0010\n",
            "Epoch 3/10\n",
            "175/175 [==============================] - 71s 404ms/step - loss: 0.8398 - accuracy: 0.6920 - val_loss: 0.8181 - val_accuracy: 0.7051 - lr: 0.0010\n",
            "Epoch 4/10\n",
            "175/175 [==============================] - 71s 403ms/step - loss: 0.7553 - accuracy: 0.7238 - val_loss: 0.7642 - val_accuracy: 0.7250 - lr: 0.0010\n",
            "Epoch 5/10\n",
            "175/175 [==============================] - 71s 404ms/step - loss: 0.7003 - accuracy: 0.7448 - val_loss: 0.7704 - val_accuracy: 0.7294 - lr: 0.0010\n",
            "Epoch 6/10\n",
            "175/175 [==============================] - 71s 405ms/step - loss: 0.6484 - accuracy: 0.7607 - val_loss: 0.7220 - val_accuracy: 0.7425 - lr: 0.0010\n",
            "Epoch 7/10\n",
            "175/175 [==============================] - 71s 404ms/step - loss: 0.5889 - accuracy: 0.7866 - val_loss: 0.7398 - val_accuracy: 0.7326 - lr: 0.0010\n",
            "Epoch 8/10\n",
            "175/175 [==============================] - 71s 404ms/step - loss: 0.5479 - accuracy: 0.8028 - val_loss: 0.7229 - val_accuracy: 0.7427 - lr: 0.0010\n",
            "Epoch 9/10\n",
            "175/175 [==============================] - 71s 404ms/step - loss: 0.5010 - accuracy: 0.8217 - val_loss: 0.7055 - val_accuracy: 0.7514 - lr: 0.0010\n",
            "Epoch 10/10\n",
            "175/175 [==============================] - 71s 404ms/step - loss: 0.4430 - accuracy: 0.8439 - val_loss: 0.7190 - val_accuracy: 0.7576 - lr: 0.0010\n"
          ]
        },
        {
          "data": {
            "text/plain": [
              "<keras.callbacks.History at 0x7f8ceb351b50>"
            ]
          },
          "execution_count": 16,
          "metadata": {},
          "output_type": "execute_result"
        }
      ],
      "source": [
        "model2 = Sequential()\n",
        "\n",
        "# LeNet-5 conv-net architecture\n",
        "model2.add(Conv2D(filters=6, kernel_size=(5,5), strides=(1,1), activation='tanh', input_shape=(69,69,3)))\n",
        "model2.add(AveragePooling2D(pool_size=(2,2), strides=(2,2)))\n",
        "model2.add(Conv2D(filters=16, kernel_size=(5,5), strides=(1,1), activation='tanh'))\n",
        "model2.add(AveragePooling2D(pool_size=(2,2), strides=(2,2)))\n",
        "\n",
        "model2.add(Flatten())\n",
        "model2.add(Dense(units=120, activation='tanh'))\n",
        "model2.add(Dense(units=84, activation='tanh'))\n",
        "model2.add(Dense(units=10, activation='softmax'))\n",
        "\n",
        "model_optimizer = Adam(lr=0.001)\n",
        "\n",
        "reduceLR = ReduceLROnPlateau(monitor='accuracy', factor=.001, patience=1, min_delta=0.01, mode=\"auto\")\n",
        "\n",
        "model2.compile(optimizer=model_optimizer, loss='sparse_categorical_crossentropy', metrics=[\"accuracy\"])\n",
        "batch_size= 100\n",
        "epochs=50\n",
        "learn_rate=.001\n",
        "sgd=SGD(lr=learn_rate,momentum=.9,nesterov=False)\n",
        "adam=Adam(lr=learn_rate, beta_1=0.9, beta_2=0.999, epsilon=None, decay=0.0, amsgrad=False)\n",
        "model.compile(optimizer=sgd,loss='categorical_crossentropy',metrics=['accuracy'])\n",
        "#model2.fit(x_train, y_train, epochs=10, callbacks=[reduceLR])\n",
        "model2.fit(x_train, y_train,batch_size=100, epochs=10, verbose=1, callbacks=[reduceLR], validation_data=(x_test, y_test)) \n",
        "#model.fit_generator(train_generator.flow(x_train, y_train, batch_size= batch_size),epochs = epochs, steps_per_epoch = len(x_train)//batch_size, validation_data = val_generator.flow(x_test, y_test, batch_size = batch_size), validation_steps =10, callbacks=[reduceLR], verbose = 1)"
      ]
    },
    {
      "cell_type": "code",
      "execution_count": 20,
      "metadata": {
        "colab": {
          "base_uri": "https://localhost:8080/",
          "height": 285
        },
        "id": "7dU1laHBc5A7",
        "outputId": "2a7708b3-545c-49f1-d0b5-d202fab50ee1"
      },
      "outputs": [
        {
          "data": {
            "text/plain": [
              "[<matplotlib.lines.Line2D at 0x7f8ceb021b50>]"
            ]
          },
          "execution_count": 20,
          "metadata": {},
          "output_type": "execute_result"
        },
        {
          "data": {
            "image/png": "[encoded data removed]",
            "text/plain": [
              "<Figure size 432x288 with 2 Axes>"
            ]
          },
          "metadata": {
            "needs_background": "light"
          },
          "output_type": "display_data"
        }
      ],
      "source": [
        "import matplotlib.pyplot as plt\n",
        "f,ax=plt.subplots(2,1)\n",
        "ax[0].plot(model2.history.history['loss'],color='b',label='Training Loss')\n",
        "ax[0].plot(model2.history.history['val_loss'],color='r',label='Validation Loss')\n",
        "ax[1].plot(model2.history.history['accuracy'],color='b',label='Training  Accuracy')\n",
        "ax[1].plot(model2.history.history['val_accuracy'],color='r',label='Validation Accuracy')\n"
      ]
    },
    {
      "cell_type": "markdown",
      "metadata": {
        "id": "pfyd5MFPh8Mp"
      },
      "source": [
        "#----END ------#"
      ]
    }
  ],
  "metadata": {
    "colab": {
      "name": "LeNet.ipynb",
      "provenance": []
    },
    "kernelspec": {
      "display_name": "Python 3",
      "name": "python3"
    },
    "language_info": {
      "name": "python"
    }
  },
  "nbformat": 4,
  "nbformat_minor": 0
}
